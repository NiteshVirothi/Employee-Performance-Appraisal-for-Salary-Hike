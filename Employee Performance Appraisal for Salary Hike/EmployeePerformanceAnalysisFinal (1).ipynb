{
 "cells": [
  {
   "cell_type": "code",
   "execution_count": 1,
   "metadata": {},
   "outputs": [],
   "source": [
    "import matplotlib.pyplot as plt\n",
    "import pandas as pd\n",
    "import numpy as np\n",
    "from sklearn.preprocessing import LabelEncoder\n",
    "from sklearn.model_selection import train_test_split\n",
    "from sklearn import tree"
   ]
  },
  {
   "cell_type": "code",
   "execution_count": 3,
   "metadata": {},
   "outputs": [
    {
     "ename": "NameError",
     "evalue": "name 'pd' is not defined",
     "output_type": "error",
     "traceback": [
      "\u001b[1;31m---------------------------------------------------------------------------\u001b[0m",
      "\u001b[1;31mNameError\u001b[0m                                 Traceback (most recent call last)",
      "\u001b[1;32m<ipython-input-3-ae5885bf1eb8>\u001b[0m in \u001b[0;36m<module>\u001b[1;34m\u001b[0m\n\u001b[1;32m----> 1\u001b[1;33m \u001b[0mdata\u001b[0m \u001b[1;33m=\u001b[0m \u001b[0mpd\u001b[0m\u001b[1;33m.\u001b[0m\u001b[0mread_csv\u001b[0m\u001b[1;33m(\u001b[0m\u001b[1;34m'EmployeePerformanceset1.csv'\u001b[0m\u001b[1;33m)\u001b[0m\u001b[1;33m\u001b[0m\u001b[1;33m\u001b[0m\u001b[0m\n\u001b[0m",
      "\u001b[1;31mNameError\u001b[0m: name 'pd' is not defined"
     ]
    }
   ],
   "source": [
    "data = pd.read_csv('EmployeePerformanceset1.csv')\n"
   ]
  },
  {
   "cell_type": "code",
   "execution_count": 2,
   "metadata": {},
   "outputs": [
    {
     "ename": "NameError",
     "evalue": "name 'data' is not defined",
     "output_type": "error",
     "traceback": [
      "\u001b[1;31m---------------------------------------------------------------------------\u001b[0m",
      "\u001b[1;31mNameError\u001b[0m                                 Traceback (most recent call last)",
      "\u001b[1;32m<ipython-input-2-968a4df546d1>\u001b[0m in \u001b[0;36m<module>\u001b[1;34m\u001b[0m\n\u001b[1;32m----> 1\u001b[1;33m \u001b[0mX\u001b[0m \u001b[1;33m=\u001b[0m \u001b[0mdata\u001b[0m\u001b[1;33m.\u001b[0m\u001b[0miloc\u001b[0m\u001b[1;33m[\u001b[0m\u001b[1;33m:\u001b[0m\u001b[1;33m,\u001b[0m\u001b[1;33m:\u001b[0m\u001b[1;33m-\u001b[0m\u001b[1;36m1\u001b[0m\u001b[1;33m]\u001b[0m\u001b[1;33m.\u001b[0m\u001b[0mvalues\u001b[0m\u001b[1;33m\u001b[0m\u001b[1;33m\u001b[0m\u001b[0m\n\u001b[0m",
      "\u001b[1;31mNameError\u001b[0m: name 'data' is not defined"
     ]
    }
   ],
   "source": [
    "X = data.iloc[:,:-1].values"
   ]
  },
  {
   "cell_type": "code",
   "execution_count": 4,
   "metadata": {},
   "outputs": [
    {
     "data": {
      "text/plain": [
       "array([[1., 1., 0., ..., 1., 2., 6.],\n",
       "       [0., 2., 1., ..., 1., 4., 4.],\n",
       "       [0., 0., 1., ..., 1., 5., 5.],\n",
       "       ...,\n",
       "       [1., 1., 1., ..., 7., 4., 5.],\n",
       "       [0., 0., 1., ..., 7., 3., 4.],\n",
       "       [0., 4., 0., ..., 7., 4., 8.]])"
      ]
     },
     "execution_count": 4,
     "metadata": {},
     "output_type": "execute_result"
    }
   ],
   "source": [
    "X"
   ]
  },
  {
   "cell_type": "code",
   "execution_count": 5,
   "metadata": {},
   "outputs": [],
   "source": [
    "y = data.iloc[:,12].values"
   ]
  },
  {
   "cell_type": "code",
   "execution_count": 6,
   "metadata": {},
   "outputs": [
    {
     "data": {
      "text/plain": [
       "array([3, 3, 3, 3, 3, 3, 3, 3, 1, 3, 3, 3, 3, 3, 3, 1, 3, 3, 3, 3, 3, 4,\n",
       "       3, 3, 1, 3, 3, 3, 3, 3, 3, 4, 3, 3, 3, 3, 3, 3, 4, 3, 3, 3, 3, 3,\n",
       "       3, 4, 3, 4, 3, 3, 3, 3, 3, 4, 3, 4, 3, 3, 2, 4, 3, 3, 4, 3, 3, 3,\n",
       "       3, 3, 1, 3, 3, 3, 3, 3, 3, 3, 4, 3, 3, 3, 2, 4, 3, 3, 3, 2, 3, 3,\n",
       "       4, 3, 3, 1, 1, 4, 4, 3, 3, 3, 3, 3, 3, 3, 3, 3, 4, 4, 2, 3, 4, 3,\n",
       "       3, 3, 4, 3, 4, 1, 3, 1, 3, 3, 3, 3, 3, 3, 3, 3, 3, 3, 3, 3, 4, 2,\n",
       "       3, 3, 3, 3, 3, 2, 3, 3, 3, 3, 3, 3, 3, 3, 3, 2, 3, 3, 3, 3, 3, 3,\n",
       "       3, 3, 3, 3, 4, 3, 2, 3, 4, 3, 3, 3, 3, 3, 3, 3, 3, 3, 3, 3, 2, 3,\n",
       "       3, 3, 3, 3, 2, 3, 3, 3, 3, 3, 3, 1, 3, 3, 3, 3, 4, 4, 3, 3, 3, 2,\n",
       "       3, 3, 4, 3, 3, 3, 2, 3, 3, 3, 3, 3, 3, 3, 3, 3, 2, 3, 3, 4, 3, 2,\n",
       "       4, 3, 3, 3, 3, 3, 3, 3, 2, 3, 3, 1, 4, 1, 3, 4, 3, 3, 3, 3, 3, 3,\n",
       "       3, 3, 3, 4, 3, 4, 3, 4, 3, 3, 3, 3, 3, 3, 3, 3, 4, 3, 4, 3, 3, 3,\n",
       "       3, 3, 4, 3, 3, 2, 1, 3, 3, 3, 3, 3, 3, 3, 3, 3, 3, 3, 3, 2, 3, 3,\n",
       "       3, 3, 3, 3, 3, 3, 2, 3, 4, 3, 4, 3, 3, 3, 3, 3, 3, 3, 3, 3, 3, 3,\n",
       "       3, 3], dtype=int64)"
      ]
     },
     "execution_count": 6,
     "metadata": {},
     "output_type": "execute_result"
    }
   ],
   "source": [
    "y"
   ]
  },
  {
   "cell_type": "code",
   "execution_count": 7,
   "metadata": {},
   "outputs": [],
   "source": [
    "X_train, X_test, y_train, y_test = train_test_split(X, y, test_size = 0.2, random_state = 0)"
   ]
  },
  {
   "cell_type": "code",
   "execution_count": 8,
   "metadata": {},
   "outputs": [
    {
     "data": {
      "text/plain": [
       "array([[ 0.,  0.,  0., ..., 21.,  5.,  0.],\n",
       "       [ 0.,  0.,  0., ..., 11.,  4.,  0.],\n",
       "       [ 0.,  0.,  1., ..., 12.,  3.,  0.],\n",
       "       ...,\n",
       "       [ 0.,  0.,  0., ..., 12.,  2.,  0.],\n",
       "       [ 1.,  1.,  0., ...,  4.,  5.,  7.],\n",
       "       [ 1.,  1.,  1., ..., 19.,  5.,  0.]])"
      ]
     },
     "execution_count": 8,
     "metadata": {},
     "output_type": "execute_result"
    }
   ],
   "source": [
    "X_train"
   ]
  },
  {
   "cell_type": "code",
   "execution_count": 9,
   "metadata": {},
   "outputs": [
    {
     "data": {
      "text/plain": [
       "array([[ 1.  ,  1.  ,  0.  ,  1.  ,  1.  ,  1.  , 34.95,  0.  , 26.  ,\n",
       "         3.  ,  4.  ,  3.  ],\n",
       "       [ 1.  ,  1.  ,  0.  ,  1.  ,  5.  ,  0.  , 21.  ,  0.  , 19.  ,\n",
       "        16.  ,  3.  ,  0.  ],\n",
       "       [ 0.  ,  0.  ,  0.  ,  2.  ,  3.  ,  0.  , 61.3 ,  0.  , 27.  ,\n",
       "         4.  ,  5.  ,  6.  ],\n",
       "       [ 1.  ,  1.  ,  0.  ,  5.  ,  5.  ,  1.  , 15.  ,  1.  , 19.  ,\n",
       "        39.  ,  5.  ,  0.  ],\n",
       "       [ 0.  ,  0.  ,  0.  ,  1.  ,  3.  ,  0.  , 31.4 ,  0.  ,  9.  ,\n",
       "         4.  ,  3.  ,  5.  ],\n",
       "       [ 1.  ,  1.  ,  0.  ,  5.  ,  5.  ,  0.  , 25.  ,  1.  , 20.  ,\n",
       "        39.  ,  3.  ,  0.  ],\n",
       "       [ 0.  ,  0.  ,  1.  ,  1.  ,  6.  ,  0.  , 55.  ,  0.  ,  3.  ,\n",
       "        21.  ,  3.  ,  0.  ],\n",
       "       [ 0.  ,  0.  ,  0.  ,  1.  ,  5.  ,  0.  , 17.  ,  0.  , 19.  ,\n",
       "        19.  ,  4.  ,  0.  ],\n",
       "       [ 0.  ,  2.  ,  0.  ,  1.  ,  5.  ,  0.  , 14.  ,  0.  , 19.  ,\n",
       "        20.  ,  4.  ,  0.  ],\n",
       "       [ 0.  ,  0.  ,  0.  ,  1.  ,  5.  ,  0.  , 26.1 ,  0.  , 20.  ,\n",
       "        16.  ,  4.  ,  0.  ],\n",
       "       [ 1.  ,  1.  ,  0.  ,  1.  ,  5.  ,  0.  , 15.75,  0.  , 19.  ,\n",
       "        18.  ,  5.  ,  0.  ],\n",
       "       [ 0.  ,  2.  ,  1.  ,  1.  ,  3.  ,  0.  , 45.  ,  0.  , 14.  ,\n",
       "         7.  ,  5.  ,  6.  ],\n",
       "       [ 0.  ,  0.  ,  0.  ,  1.  ,  6.  ,  0.  , 54.  ,  0.  , 21.  ,\n",
       "        15.  ,  4.  ,  0.  ],\n",
       "       [ 0.  ,  0.  ,  1.  ,  1.  ,  5.  ,  0.  , 21.  ,  0.  , 19.  ,\n",
       "        19.  ,  4.  ,  0.  ],\n",
       "       [ 0.  ,  2.  ,  1.  ,  1.  ,  5.  ,  0.  , 54.5 ,  0.  , 17.  ,\n",
       "         2.  ,  3.  ,  0.  ],\n",
       "       [ 1.  ,  1.  ,  1.  ,  1.  ,  5.  ,  0.  , 21.  ,  0.  , 19.  ,\n",
       "        18.  ,  3.  ,  0.  ],\n",
       "       [ 0.  ,  0.  ,  1.  ,  1.  ,  5.  ,  0.  , 25.  ,  0.  , 20.  ,\n",
       "        20.  ,  4.  ,  0.  ],\n",
       "       [ 0.  ,  0.  ,  0.  ,  1.  ,  5.  ,  0.  , 22.  ,  0.  , 19.  ,\n",
       "        16.  ,  5.  ,  0.  ],\n",
       "       [ 0.  ,  2.  ,  0.  ,  5.  ,  5.  ,  0.  , 23.  ,  1.  , 20.  ,\n",
       "        11.  ,  3.  ,  0.  ],\n",
       "       [ 0.  ,  2.  ,  0.  ,  5.  ,  5.  ,  0.  , 22.  ,  1.  , 20.  ,\n",
       "        14.  ,  3.  ,  0.  ],\n",
       "       [ 0.  ,  0.  ,  0.  ,  1.  ,  6.  ,  0.  , 55.  ,  0.  ,  3.  ,\n",
       "        17.  ,  5.  ,  0.  ],\n",
       "       [ 0.  ,  2.  ,  0.  ,  1.  ,  5.  ,  0.  , 22.5 ,  0.  , 20.  ,\n",
       "        19.  ,  4.  ,  0.  ],\n",
       "       [ 0.  ,  0.  ,  1.  ,  1.  ,  6.  ,  0.  , 55.  ,  0.  ,  3.  ,\n",
       "        17.  ,  3.  ,  0.  ],\n",
       "       [ 1.  ,  1.  ,  1.  ,  1.  ,  5.  ,  0.  , 18.  ,  0.  , 19.  ,\n",
       "        11.  ,  5.  ,  0.  ],\n",
       "       [ 0.  ,  0.  ,  1.  ,  5.  ,  5.  ,  0.  , 18.  ,  1.  , 19.  ,\n",
       "        20.  ,  5.  ,  0.  ],\n",
       "       [ 0.  ,  0.  ,  1.  ,  1.  ,  6.  ,  0.  , 56.  ,  0.  ,  3.  ,\n",
       "        21.  ,  5.  ,  0.  ],\n",
       "       [ 1.  ,  1.  ,  1.  ,  1.  ,  6.  ,  0.  , 55.5 ,  0.  ,  3.  ,\n",
       "        17.  ,  3.  ,  0.  ],\n",
       "       [ 1.  ,  1.  ,  1.  ,  1.  ,  5.  ,  0.  , 29.  ,  0.  , 20.  ,\n",
       "        18.  ,  3.  ,  0.  ],\n",
       "       [ 0.  ,  0.  ,  0.  ,  1.  ,  5.  ,  0.  , 25.  ,  0.  , 20.  ,\n",
       "        11.  ,  4.  ,  0.  ],\n",
       "       [ 0.  ,  0.  ,  0.  ,  5.  ,  5.  ,  0.  , 21.  ,  1.  , 19.  ,\n",
       "        11.  ,  4.  ,  0.  ],\n",
       "       [ 1.  ,  1.  ,  1.  ,  5.  ,  5.  ,  0.  , 22.  ,  1.  , 19.  ,\n",
       "        11.  ,  3.  ,  0.  ],\n",
       "       [ 0.  ,  2.  ,  0.  ,  1.  ,  5.  ,  0.  , 24.  ,  0.  , 19.  ,\n",
       "        12.  ,  5.  ,  0.  ],\n",
       "       [ 0.  ,  3.  ,  0.  ,  5.  ,  5.  ,  0.  , 29.  ,  1.  , 20.  ,\n",
       "        18.  ,  5.  ,  0.  ],\n",
       "       [ 1.  ,  1.  ,  1.  ,  1.  ,  3.  ,  0.  , 42.  ,  0.  , 14.  ,\n",
       "         7.  ,  5.  ,  7.  ],\n",
       "       [ 0.  ,  0.  ,  1.  ,  1.  ,  5.  ,  0.  , 19.  ,  0.  , 19.  ,\n",
       "        14.  ,  3.  ,  0.  ],\n",
       "       [ 1.  ,  1.  ,  0.  ,  1.  ,  5.  ,  0.  , 20.  ,  0.  , 19.  ,\n",
       "        14.  ,  4.  ,  0.  ],\n",
       "       [ 1.  ,  1.  ,  0.  ,  1.  ,  5.  ,  0.  , 55.  ,  0.  , 18.  ,\n",
       "         2.  ,  3.  ,  0.  ],\n",
       "       [ 0.  ,  2.  ,  0.  ,  5.  ,  5.  ,  0.  , 16.  ,  1.  , 19.  ,\n",
       "        20.  ,  5.  ,  0.  ],\n",
       "       [ 0.  ,  0.  ,  1.  ,  1.  ,  3.  ,  0.  , 28.99,  0.  , 14.  ,\n",
       "         6.  ,  3.  ,  6.  ],\n",
       "       [ 1.  ,  1.  ,  0.  ,  1.  ,  4.  ,  0.  , 49.25,  0.  , 24.  ,\n",
       "        10.  ,  3.  ,  6.  ],\n",
       "       [ 0.  ,  0.  ,  0.  ,  4.  ,  5.  ,  0.  , 18.  ,  1.  , 19.  ,\n",
       "        16.  ,  3.  ,  0.  ],\n",
       "       [ 0.  ,  2.  ,  1.  ,  1.  ,  5.  ,  1.  , 16.  ,  0.  , 19.  ,\n",
       "        12.  ,  4.  ,  0.  ],\n",
       "       [ 0.  ,  0.  ,  0.  ,  1.  ,  4.  ,  0.  , 56.  ,  0.  , 24.  ,\n",
       "        10.  ,  4.  ,  6.  ],\n",
       "       [ 1.  ,  1.  ,  0.  ,  1.  ,  3.  ,  0.  , 37.  ,  0.  , 14.  ,\n",
       "         7.  ,  4.  ,  6.  ],\n",
       "       [ 0.  ,  0.  ,  0.  ,  1.  ,  5.  ,  0.  , 26.  ,  0.  , 20.  ,\n",
       "        19.  ,  5.  ,  0.  ],\n",
       "       [ 1.  ,  1.  ,  0.  ,  1.  ,  6.  ,  0.  , 54.  ,  0.  ,  3.  ,\n",
       "        17.  ,  4.  ,  0.  ],\n",
       "       [ 1.  ,  1.  ,  0.  ,  1.  ,  5.  ,  0.  , 24.  ,  0.  , 19.  ,\n",
       "        22.  ,  4.  ,  0.  ],\n",
       "       [ 0.  ,  0.  ,  0.  ,  1.  ,  6.  ,  0.  , 55.  ,  0.  ,  3.  ,\n",
       "        17.  ,  1.  ,  0.  ],\n",
       "       [ 0.  ,  2.  ,  1.  ,  5.  ,  5.  ,  0.  , 20.  ,  1.  , 19.  ,\n",
       "        16.  ,  4.  ,  0.  ],\n",
       "       [ 0.  ,  0.  ,  1.  ,  1.  ,  3.  ,  0.  , 65.  ,  0.  , 12.  ,\n",
       "         5.  ,  5.  ,  5.  ],\n",
       "       [ 1.  ,  1.  ,  0.  ,  3.  ,  5.  ,  0.  , 24.25,  0.  , 20.  ,\n",
       "        14.  ,  3.  ,  0.  ],\n",
       "       [ 0.  ,  0.  ,  0.  ,  1.  ,  5.  ,  0.  , 14.  ,  0.  , 19.  ,\n",
       "        16.  ,  5.  ,  0.  ],\n",
       "       [ 0.  ,  0.  ,  0.  ,  1.  ,  5.  ,  0.  , 26.39,  0.  , 20.  ,\n",
       "        16.  ,  5.  ,  0.  ],\n",
       "       [ 0.  ,  3.  ,  0.  ,  3.  ,  5.  ,  1.  , 20.  ,  0.  , 19.  ,\n",
       "        20.  ,  5.  ,  0.  ],\n",
       "       [ 0.  ,  2.  ,  0.  ,  5.  ,  5.  ,  0.  , 16.  ,  1.  , 19.  ,\n",
       "        39.  ,  4.  ,  0.  ],\n",
       "       [ 1.  ,  1.  ,  0.  ,  5.  ,  1.  ,  1.  , 20.5 ,  1.  ,  2.  ,\n",
       "         1.  ,  4.  ,  4.  ],\n",
       "       [ 1.  ,  1.  ,  0.  ,  1.  ,  3.  ,  0.  , 27.49,  0.  , 14.  ,\n",
       "         6.  ,  3.  ,  5.  ],\n",
       "       [ 1.  ,  1.  ,  1.  ,  5.  ,  5.  ,  0.  , 17.  ,  1.  , 19.  ,\n",
       "        22.  ,  4.  ,  0.  ],\n",
       "       [ 0.  ,  0.  ,  1.  ,  1.  ,  3.  ,  0.  , 64.  ,  0.  , 13.  ,\n",
       "         5.  ,  5.  ,  5.  ],\n",
       "       [ 0.  ,  0.  ,  1.  ,  1.  ,  3.  ,  0.  , 46.  ,  0.  ,  4.  ,\n",
       "        13.  ,  5.  ,  7.  ],\n",
       "       [ 0.  ,  0.  ,  0.  ,  1.  ,  5.  ,  0.  , 27.  ,  0.  , 20.  ,\n",
       "        22.  ,  3.  ,  0.  ],\n",
       "       [ 1.  ,  1.  ,  0.  ,  1.  ,  3.  ,  0.  , 45.  ,  0.  ,  4.  ,\n",
       "        13.  ,  4.  ,  6.  ]])"
      ]
     },
     "execution_count": 9,
     "metadata": {},
     "output_type": "execute_result"
    }
   ],
   "source": [
    "X_test"
   ]
  },
  {
   "cell_type": "code",
   "execution_count": 10,
   "metadata": {},
   "outputs": [
    {
     "data": {
      "text/plain": [
       "array([4, 3, 4, 4, 3, 4, 3, 3, 3, 3, 3, 3, 3, 3, 3, 3, 4, 3, 2, 3, 3, 3,\n",
       "       3, 3, 3, 3, 3, 3, 2, 3, 3, 3, 2, 4, 3, 3, 3, 3, 3, 3, 3, 3, 3, 4,\n",
       "       2, 3, 3, 3, 3, 3, 3, 3, 3, 3, 3, 3, 3, 3, 3, 3, 3, 3, 3, 3, 3, 3,\n",
       "       3, 4, 3, 3, 3, 3, 3, 3, 3, 3, 3, 3, 3, 3, 4, 3, 3, 3, 3, 3, 3, 3,\n",
       "       3, 2, 3, 3, 3, 3, 3, 3, 4, 3, 3, 3, 1, 3, 3, 3, 3, 3, 3, 3, 3, 2,\n",
       "       3, 3, 3, 4, 3, 3, 3, 3, 2, 3, 3, 3, 3, 1, 3, 3, 3, 3, 4, 3, 4, 4,\n",
       "       1, 3, 3, 1, 3, 4, 3, 3, 3, 3, 3, 4, 3, 3, 3, 3, 4, 3, 4, 3, 3, 3,\n",
       "       3, 4, 3, 3, 3, 1, 3, 3, 3, 3, 2, 3, 3, 3, 3, 3, 3, 3, 3, 3, 4, 2,\n",
       "       3, 2, 2, 3, 3, 3, 3, 1, 3, 3, 3, 3, 3, 3, 2, 3, 4, 1, 3, 3, 3, 3,\n",
       "       3, 3, 4, 3, 4, 4, 3, 3, 3, 3, 3, 3, 3, 3, 4, 3, 3, 3, 3, 3, 2, 3,\n",
       "       3, 3, 2, 3, 1, 3, 3, 3, 3, 4, 2, 3, 3, 4, 4, 3, 3, 2, 3, 3, 3, 3,\n",
       "       3, 3, 4, 1, 4, 3], dtype=int64)"
      ]
     },
     "execution_count": 10,
     "metadata": {},
     "output_type": "execute_result"
    }
   ],
   "source": [
    "y_train"
   ]
  },
  {
   "cell_type": "code",
   "execution_count": 11,
   "metadata": {},
   "outputs": [
    {
     "data": {
      "text/plain": [
       "array([3, 3, 3, 3, 3, 3, 3, 3, 3, 4, 3, 3, 3, 3, 3, 3, 3, 3, 3, 3, 3, 4,\n",
       "       1, 1, 3, 3, 3, 3, 3, 3, 3, 3, 3, 3, 3, 3, 4, 3, 3, 3, 2, 4, 3, 3,\n",
       "       3, 3, 3, 1, 3, 4, 3, 3, 3, 3, 3, 3, 3, 4, 4, 3, 2, 3], dtype=int64)"
      ]
     },
     "execution_count": 11,
     "metadata": {},
     "output_type": "execute_result"
    }
   ],
   "source": [
    "y_test"
   ]
  },
  {
   "cell_type": "code",
   "execution_count": 12,
   "metadata": {},
   "outputs": [],
   "source": [
    "model = tree.DecisionTreeClassifier()"
   ]
  },
  {
   "cell_type": "code",
   "execution_count": 13,
   "metadata": {},
   "outputs": [
    {
     "data": {
      "text/plain": [
       "DecisionTreeClassifier(class_weight=None, criterion='gini', max_depth=None,\n",
       "                       max_features=None, max_leaf_nodes=None,\n",
       "                       min_impurity_decrease=0.0, min_impurity_split=None,\n",
       "                       min_samples_leaf=1, min_samples_split=2,\n",
       "                       min_weight_fraction_leaf=0.0, presort=False,\n",
       "                       random_state=None, splitter='best')"
      ]
     },
     "execution_count": 13,
     "metadata": {},
     "output_type": "execute_result"
    }
   ],
   "source": [
    "model.fit(X_train, y_train)"
   ]
  },
  {
   "cell_type": "code",
   "execution_count": 14,
   "metadata": {},
   "outputs": [],
   "source": [
    "y_pred = model.predict(X_test)"
   ]
  },
  {
   "cell_type": "code",
   "execution_count": 15,
   "metadata": {},
   "outputs": [],
   "source": [
    "df = pd.DataFrame(data=y_test, columns=['y_test'])\n",
    "df['y_pred'] = y_pred"
   ]
  },
  {
   "cell_type": "code",
   "execution_count": 17,
   "metadata": {},
   "outputs": [
    {
     "data": {
      "text/plain": [
       "2"
      ]
     },
     "execution_count": 17,
     "metadata": {},
     "output_type": "execute_result"
    }
   ],
   "source": [
    "a = [1,1,0,1,1,1,34.95,0,26,3,0,7]\n",
    "b = np.array(a)\n",
    "b = b.reshape(1, -1)\n",
    "y_pred_single_obs = model.predict(b)\n",
    "round(int(y_pred_single_obs), 2)"
   ]
  },
  {
   "cell_type": "code",
   "execution_count": 19,
   "metadata": {},
   "outputs": [
    {
     "data": {
      "text/plain": [
       "['employeeperformscore.pkl']"
      ]
     },
     "execution_count": 19,
     "metadata": {},
     "output_type": "execute_result"
    }
   ],
   "source": [
    "import joblib\n",
    "joblib.dump(model, \"employeeperformscore.pkl\")"
   ]
  },
  {
   "cell_type": "code",
   "execution_count": null,
   "metadata": {},
   "outputs": [],
   "source": []
  }
 ],
 "metadata": {
  "kernelspec": {
   "display_name": "Python 3",
   "language": "python",
   "name": "python3"
  },
  "language_info": {
   "codemirror_mode": {
    "name": "ipython",
    "version": 3
   },
   "file_extension": ".py",
   "mimetype": "text/x-python",
   "name": "python",
   "nbconvert_exporter": "python",
   "pygments_lexer": "ipython3",
   "version": "3.7.4"
  }
 },
 "nbformat": 4,
 "nbformat_minor": 2
}
